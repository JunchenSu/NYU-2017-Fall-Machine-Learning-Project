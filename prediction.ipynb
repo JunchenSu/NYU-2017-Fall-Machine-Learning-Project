{
 "cells": [
  {
   "cell_type": "code",
   "execution_count": 1,
   "metadata": {},
   "outputs": [
    {
     "data": {
      "text/html": [
       "<div>\n",
       "<style>\n",
       "    .dataframe thead tr:only-child th {\n",
       "        text-align: right;\n",
       "    }\n",
       "\n",
       "    .dataframe thead th {\n",
       "        text-align: left;\n",
       "    }\n",
       "\n",
       "    .dataframe tbody tr th {\n",
       "        vertical-align: top;\n",
       "    }\n",
       "</style>\n",
       "<table border=\"1\" class=\"dataframe\">\n",
       "  <thead>\n",
       "    <tr style=\"text-align: right;\">\n",
       "      <th></th>\n",
       "      <th>Color</th>\n",
       "      <th>director_name</th>\n",
       "      <th>num_critic_for_reviews</th>\n",
       "      <th>duration</th>\n",
       "      <th>director_facebook_likes</th>\n",
       "      <th>actor_3_facebook_likes</th>\n",
       "      <th>actor_2_name</th>\n",
       "      <th>actor_1_facebook_likes</th>\n",
       "      <th>gross</th>\n",
       "      <th>genres</th>\n",
       "      <th>...</th>\n",
       "      <th>num_user_for_reviews</th>\n",
       "      <th>language</th>\n",
       "      <th>country</th>\n",
       "      <th>content_rating</th>\n",
       "      <th>budget</th>\n",
       "      <th>title_year</th>\n",
       "      <th>actor_2_facebook_likes</th>\n",
       "      <th>imdb_score</th>\n",
       "      <th>aspect_ratio</th>\n",
       "      <th>movie_facebook_likes</th>\n",
       "    </tr>\n",
       "  </thead>\n",
       "  <tbody>\n",
       "    <tr>\n",
       "      <th>1198</th>\n",
       "      <td>1.0</td>\n",
       "      <td>Danny DeVito</td>\n",
       "      <td>78.0</td>\n",
       "      <td>89.0</td>\n",
       "      <td>0.0</td>\n",
       "      <td>500.0</td>\n",
       "      <td>Amber Valletta</td>\n",
       "      <td>1000.0</td>\n",
       "      <td>9652000</td>\n",
       "      <td>Comedy</td>\n",
       "      <td>...</td>\n",
       "      <td>147</td>\n",
       "      <td>English</td>\n",
       "      <td>USA</td>\n",
       "      <td>3.0</td>\n",
       "      <td>40000000</td>\n",
       "      <td>2003</td>\n",
       "      <td>627.0</td>\n",
       "      <td>5.8</td>\n",
       "      <td>1.85</td>\n",
       "      <td>0.0</td>\n",
       "    </tr>\n",
       "    <tr>\n",
       "      <th>876</th>\n",
       "      <td>1.0</td>\n",
       "      <td>Quentin Tarantino</td>\n",
       "      <td>486.0</td>\n",
       "      <td>153.0</td>\n",
       "      <td>16000.0</td>\n",
       "      <td>11000.0</td>\n",
       "      <td>Brad Pitt</td>\n",
       "      <td>13000.0</td>\n",
       "      <td>120523073</td>\n",
       "      <td>Adventure|Drama|War</td>\n",
       "      <td>...</td>\n",
       "      <td>1527</td>\n",
       "      <td>English</td>\n",
       "      <td>USA</td>\n",
       "      <td>4.0</td>\n",
       "      <td>75000000</td>\n",
       "      <td>2009</td>\n",
       "      <td>11000.0</td>\n",
       "      <td>8.3</td>\n",
       "      <td>2.35</td>\n",
       "      <td>42000.0</td>\n",
       "    </tr>\n",
       "    <tr>\n",
       "      <th>612</th>\n",
       "      <td>1.0</td>\n",
       "      <td>Paul Greengrass</td>\n",
       "      <td>329.0</td>\n",
       "      <td>115.0</td>\n",
       "      <td>521.0</td>\n",
       "      <td>883.0</td>\n",
       "      <td>Edgar Ram铆rez</td>\n",
       "      <td>13000.0</td>\n",
       "      <td>227137090</td>\n",
       "      <td>Action|Mystery|Thriller</td>\n",
       "      <td>...</td>\n",
       "      <td>820</td>\n",
       "      <td>English</td>\n",
       "      <td>USA</td>\n",
       "      <td>3.0</td>\n",
       "      <td>110000000</td>\n",
       "      <td>2007</td>\n",
       "      <td>897.0</td>\n",
       "      <td>8.1</td>\n",
       "      <td>2.35</td>\n",
       "      <td>0.0</td>\n",
       "    </tr>\n",
       "    <tr>\n",
       "      <th>780</th>\n",
       "      <td>1.0</td>\n",
       "      <td>Rob Reiner</td>\n",
       "      <td>207.0</td>\n",
       "      <td>97.0</td>\n",
       "      <td>0.0</td>\n",
       "      <td>760.0</td>\n",
       "      <td>Noel Gugliemi</td>\n",
       "      <td>11000.0</td>\n",
       "      <td>93452056</td>\n",
       "      <td>Adventure|Comedy|Drama</td>\n",
       "      <td>...</td>\n",
       "      <td>310</td>\n",
       "      <td>English</td>\n",
       "      <td>USA</td>\n",
       "      <td>3.0</td>\n",
       "      <td>45000000</td>\n",
       "      <td>2007</td>\n",
       "      <td>2000.0</td>\n",
       "      <td>7.4</td>\n",
       "      <td>1.85</td>\n",
       "      <td>22000.0</td>\n",
       "    </tr>\n",
       "    <tr>\n",
       "      <th>1249</th>\n",
       "      <td>1.0</td>\n",
       "      <td>Nora Ephron</td>\n",
       "      <td>60.0</td>\n",
       "      <td>105.0</td>\n",
       "      <td>0.0</td>\n",
       "      <td>506.0</td>\n",
       "      <td>Michael Moore</td>\n",
       "      <td>975.0</td>\n",
       "      <td>10014234</td>\n",
       "      <td>Comedy|Crime</td>\n",
       "      <td>...</td>\n",
       "      <td>69</td>\n",
       "      <td>English</td>\n",
       "      <td>France</td>\n",
       "      <td>4.0</td>\n",
       "      <td>65000000</td>\n",
       "      <td>2000</td>\n",
       "      <td>909.0</td>\n",
       "      <td>5.0</td>\n",
       "      <td>1.85</td>\n",
       "      <td>177.0</td>\n",
       "    </tr>\n",
       "    <tr>\n",
       "      <th>1409</th>\n",
       "      <td>1.0</td>\n",
       "      <td>Nancy Meyers</td>\n",
       "      <td>241.0</td>\n",
       "      <td>121.0</td>\n",
       "      <td>278.0</td>\n",
       "      <td>808.0</td>\n",
       "      <td>Anne Hathaway</td>\n",
       "      <td>22000.0</td>\n",
       "      <td>75274748</td>\n",
       "      <td>Comedy|Drama</td>\n",
       "      <td>...</td>\n",
       "      <td>304</td>\n",
       "      <td>English</td>\n",
       "      <td>USA</td>\n",
       "      <td>3.0</td>\n",
       "      <td>35000000</td>\n",
       "      <td>2015</td>\n",
       "      <td>11000.0</td>\n",
       "      <td>7.2</td>\n",
       "      <td>1.85</td>\n",
       "      <td>54000.0</td>\n",
       "    </tr>\n",
       "  </tbody>\n",
       "</table>\n",
       "<p>6 rows × 28 columns</p>\n",
       "</div>"
      ],
      "text/plain": [
       "      Color      director_name  num_critic_for_reviews  duration  \\\n",
       "1198    1.0       Danny DeVito                    78.0      89.0   \n",
       "876     1.0  Quentin Tarantino                   486.0     153.0   \n",
       "612     1.0    Paul Greengrass                   329.0     115.0   \n",
       "780     1.0         Rob Reiner                   207.0      97.0   \n",
       "1249    1.0        Nora Ephron                    60.0     105.0   \n",
       "1409    1.0       Nancy Meyers                   241.0     121.0   \n",
       "\n",
       "      director_facebook_likes  actor_3_facebook_likes    actor_2_name  \\\n",
       "1198                      0.0                   500.0  Amber Valletta   \n",
       "876                   16000.0                 11000.0       Brad Pitt   \n",
       "612                     521.0                   883.0   Edgar Ram铆rez   \n",
       "780                       0.0                   760.0   Noel Gugliemi   \n",
       "1249                      0.0                   506.0   Michael Moore   \n",
       "1409                    278.0                   808.0   Anne Hathaway   \n",
       "\n",
       "      actor_1_facebook_likes      gross                   genres  \\\n",
       "1198                  1000.0    9652000                   Comedy   \n",
       "876                  13000.0  120523073      Adventure|Drama|War   \n",
       "612                  13000.0  227137090  Action|Mystery|Thriller   \n",
       "780                  11000.0   93452056   Adventure|Comedy|Drama   \n",
       "1249                   975.0   10014234             Comedy|Crime   \n",
       "1409                 22000.0   75274748             Comedy|Drama   \n",
       "\n",
       "             ...          num_user_for_reviews language  country  \\\n",
       "1198         ...                           147  English      USA   \n",
       "876          ...                          1527  English      USA   \n",
       "612          ...                           820  English      USA   \n",
       "780          ...                           310  English      USA   \n",
       "1249         ...                            69  English   France   \n",
       "1409         ...                           304  English      USA   \n",
       "\n",
       "      content_rating     budget  title_year actor_2_facebook_likes imdb_score  \\\n",
       "1198             3.0   40000000        2003                  627.0        5.8   \n",
       "876              4.0   75000000        2009                11000.0        8.3   \n",
       "612              3.0  110000000        2007                  897.0        8.1   \n",
       "780              3.0   45000000        2007                 2000.0        7.4   \n",
       "1249             4.0   65000000        2000                  909.0        5.0   \n",
       "1409             3.0   35000000        2015                11000.0        7.2   \n",
       "\n",
       "      aspect_ratio movie_facebook_likes  \n",
       "1198          1.85                  0.0  \n",
       "876           2.35              42000.0  \n",
       "612           2.35                  0.0  \n",
       "780           1.85              22000.0  \n",
       "1249          1.85                177.0  \n",
       "1409          1.85              54000.0  \n",
       "\n",
       "[6 rows x 28 columns]"
      ]
     },
     "execution_count": 1,
     "metadata": {},
     "output_type": "execute_result"
    }
   ],
   "source": [
    "import pandas as pd\n",
    "import numpy as np\n",
    "with open('C:/Users/WANGYIFAN/Desktop/film_data.csv') as f:\n",
    "    df= pd.read_csv(f,header=0, delim_whitespace=False,na_values=0,index_col=False)\n",
    "df=df.fillna(0)\n",
    "df = df.sample(frac=1.0)  # 全部打乱\n",
    "\n",
    "\n",
    "        \n",
    "df.head(6)\n",
    "\n",
    "     "
   ]
  },
  {
   "cell_type": "code",
   "execution_count": 2,
   "metadata": {
    "collapsed": true
   },
   "outputs": [],
   "source": [
    "import matplotlib.pyplot as plt\n",
    "%matplotlib inline"
   ]
  },
  {
   "cell_type": "code",
   "execution_count": 3,
   "metadata": {},
   "outputs": [
    {
     "name": "stdout",
     "output_type": "stream",
     "text": [
      "[0 0 0 ..., 0 0 1]\n"
     ]
    }
   ],
   "source": [
    "#country\n",
    "xc=np.array(df['country'])\n",
    "xcnew=[]\n",
    "for item in xc:\n",
    "    if item=='USA':\n",
    "        item=0\n",
    "        \n",
    "    else:\n",
    "        item=1\n",
    "    xcnew.append(item)\n",
    "xcnew=np.array(xcnew)\n",
    "print(xcnew)"
   ]
  },
  {
   "cell_type": "code",
   "execution_count": 4,
   "metadata": {},
   "outputs": [
    {
     "name": "stdout",
     "output_type": "stream",
     "text": [
      "[0 0 1 ..., 1 0 0]\n",
      "[0 1 0 ..., 0 0 0]\n",
      "[1 0 0 ..., 0 0 0]\n",
      "[0 0 0 ..., 0 0 0]\n",
      "[0 0 0 ..., 1 1 0]\n",
      "[0 0 1 ..., 1 1 0]\n",
      "[0 0 0 ..., 0 0 0]\n",
      "[0 0 0 ..., 0 0 1]\n"
     ]
    }
   ],
   "source": [
    "#type of the movie\n",
    "xg = np.array(df['genres'])\n",
    "xaction = []\n",
    "for item in xg:\n",
    "    if 'Action' not in item:\n",
    "        item = 0\n",
    "    else:\n",
    "        item = 1\n",
    "    xaction.append(item)\n",
    "xaction = np.array(xaction)\n",
    "print(xaction)\n",
    "\n",
    "\n",
    "xadventure = []\n",
    "for item in xg:\n",
    "    if 'Adventure' not in item:\n",
    "        item = 0\n",
    "    else:\n",
    "        item = 1\n",
    "    xadventure.append(item)\n",
    "xadventure = np.array(xadventure)\n",
    "print(xadventure)\n",
    "\n",
    "xcomedy = []\n",
    "for item in xg:\n",
    "    if 'Comedy' not in item:\n",
    "        item = 0\n",
    "    else:\n",
    "        item = 1\n",
    "    xcomedy.append(item)\n",
    "xcomedy = np.array(xcomedy)\n",
    "print(xcomedy)\n",
    "\n",
    "xfamily = []\n",
    "for item in xg:\n",
    "    if 'Family' not in item:\n",
    "        item = 0\n",
    "    else:\n",
    "        item = 1\n",
    "    xfamily.append(item)\n",
    "xfamily = np.array(xfamily)\n",
    "print(xfamily)\n",
    "\n",
    "xcrime = []\n",
    "for item in xg:\n",
    "    if 'Crime' not in item:\n",
    "        item = 0\n",
    "    else:\n",
    "        item = 1\n",
    "    xcrime.append(item)\n",
    "xcrime = np.array(xcrime)\n",
    "print(xcrime)\n",
    "\n",
    "xthriller = []\n",
    "for item in xg:\n",
    "    if 'Thriller' not in item and 'Horror' not in item and 'Mystery' not in item:\n",
    "        item = 0\n",
    "    else:\n",
    "        item = 1\n",
    "    xthriller.append(item)\n",
    "xthriller = np.array(xthriller)\n",
    "print(xthriller)\n",
    "\n",
    "xfantasy = []\n",
    "for item in xg:\n",
    "    if 'Fantasy' not in item and 'Sci-Fi' not in item:\n",
    "        item = 0\n",
    "    else:\n",
    "        item = 1\n",
    "    xfantasy.append(item)\n",
    "xfantasy = np.array(xfantasy)\n",
    "print(xfantasy)\n",
    "\n",
    "xbiography = []\n",
    "for item in xg:\n",
    "    if 'Biography' not in item and 'History' not in item and 'Documentary' not in item:\n",
    "        item = 0\n",
    "    else:\n",
    "        item = 1\n",
    "    xbiography.append(item)\n",
    "xbiography = np.array(xbiography)\n",
    "print(xbiography)\n"
   ]
  },
  {
   "cell_type": "code",
   "execution_count": 5,
   "metadata": {},
   "outputs": [
    {
     "name": "stdout",
     "output_type": "stream",
     "text": [
      "[1 1 1 ..., 1 1 1]\n"
     ]
    }
   ],
   "source": [
    "#language\n",
    "xl=np.array(df['language'])\n",
    "xlnew=[]\n",
    "for item in xl:\n",
    "    if item=='English':\n",
    "        item=1\n",
    "        \n",
    "    else:\n",
    "        item=0\n",
    "    xlnew.append(item)\n",
    "xlnew=np.array(xlnew)\n",
    "print(xlnew)"
   ]
  },
  {
   "cell_type": "code",
   "execution_count": 49,
   "metadata": {},
   "outputs": [
    {
     "data": {
      "text/plain": [
       "22"
      ]
     },
     "execution_count": 49,
     "metadata": {},
     "output_type": "execute_result"
    }
   ],
   "source": [
    "#Xtrain=df[['Color','content_rating','budget','title_year','imdb_score']]\n",
    "from sklearn.preprocessing import scale\n",
    "X1=np.array(df[['Color','content_rating','title_year','imdb_score','cast_total_facebook_likes','num_voted_users','budget','actor_2_facebook_likes',\n",
    "                'actor_1_facebook_likes','director_facebook_likes','num_critic_for_reviews','aspect_ratio']])\n",
    "\n",
    "X=np.c_[X1,xcnew,xlnew,xaction,xadventure,xcomedy,xfamily,xcrime,xthriller,xfantasy,xbiography]\n",
    "X = scale(X)\n",
    "\n",
    "y=np.array(df['gross'])\n",
    "#y=np.log10(y)\n",
    "\n",
    "nt=2000\n",
    "\n",
    "Xtr=X[:nt,:]\n",
    "ytr=y[:nt]\n",
    "Xts=X[nt:,:]\n",
    "yts=y[nt:]\n",
    "X.shape[1]"
   ]
  },
  {
   "cell_type": "code",
   "execution_count": 7,
   "metadata": {},
   "outputs": [
    {
     "name": "stdout",
     "output_type": "stream",
     "text": [
      "Normalized RSS = 0.395879\n",
      "Accuracy on test data = 0.710938\n"
     ]
    }
   ],
   "source": [
    "from sklearn import linear_model\n",
    "regr = linear_model.LinearRegression()\n",
    "regr.fit(Xtr,ytr)\n",
    "y_pred = regr.predict(Xts)\n",
    "\n",
    "RSS_tr = np.mean((y_pred-yts)**2)/(np.std(yts)**2)\n",
    "print(\"Normalized RSS = {0:f}\".format(RSS_tr))\n",
    "acc=np.mean(np.fabs((y_pred-yts)/yts<1))\n",
    "print(\"Accuracy on test data = %f\" % acc)"
   ]
  },
  {
   "cell_type": "code",
   "execution_count": 52,
   "metadata": {},
   "outputs": [
    {
     "data": {
      "text/plain": [
       "[<matplotlib.lines.Line2D at 0x2109bc6fac8>]"
      ]
     },
     "execution_count": 52,
     "metadata": {},
     "output_type": "execute_result"
    },
    {
     "data": {
      "image/png": "[encoded data removed]",
      "text/plain": [
       "<matplotlib.figure.Figure at 0x2109b7f3908>"
      ]
     },
     "metadata": {},
     "output_type": "display_data"
    }
   ],
   "source": [
    "#plt.plot(yts,y_pred,'o')\n",
    "plt.scatter(y_pred,yts)\n",
    "plt.xlabel('predict')\n",
    "plt.ylabel('actual')\n",
    "plt.plot([0,4e8],[0,4e8],'r')"
   ]
  },
  {
   "cell_type": "code",
   "execution_count": 9,
   "metadata": {},
   "outputs": [
    {
     "data": {
      "image/png": "[encoded data removed]",
      "text/plain": [
       "<matplotlib.figure.Figure at 0x210937ac8d0>"
      ]
     },
     "metadata": {},
     "output_type": "display_data"
    }
   ],
   "source": [
    "natt=X.shape[1]\n",
    "ym = np.mean(ytr)\n",
    "syy = np.mean((ytr-ym)**2)\n",
    "Rsq = np.zeros(natt)\n",
    "beta0 = np.zeros(natt)\n",
    "beta1 = np.zeros(natt)\n",
    "for k in range(natt):\n",
    "    xm = np.mean(Xtr[:,k])\n",
    "    sxy = np.mean((Xtr[:,k]-xm)*(ytr-ym))\n",
    "    sxx = np.mean((Xtr[:,k]-xm)**2)\n",
    "    beta1[k] = sxy/sxx\n",
    "    beta0[k] = ym - beta1[k]*xm\n",
    "    Rsq[k] = (sxy)**2/sxx/syy\n",
    "plt.stem(Rsq, '-.')\n",
    "plt.show()\n",
    "#print(\"{0:2d} Rsq={1:f}\".format(k,Rsq[k]))"
   ]
  },
  {
   "cell_type": "code",
   "execution_count": 44,
   "metadata": {},
   "outputs": [
    {
     "name": "stdout",
     "output_type": "stream",
     "text": [
      "The neurons with the ten highest R^2 values = ... [ 5 10 15 20  6  7 14 17  4  3]\n"
     ]
    }
   ],
   "source": [
    "d = 16 # Number of neurons to use\n",
    "r=np.argsort(-Rsq)\n",
    "Isel=r[:d]\n",
    "print('The neurons with the ten highest R^2 values = ...',Isel[:10])\n"
   ]
  },
  {
   "cell_type": "code",
   "execution_count": 45,
   "metadata": {},
   "outputs": [
    {
     "name": "stdout",
     "output_type": "stream",
     "text": [
      "Normalized RSS = 0.398204\n",
      "Accuracy on test data = 0.709473\n"
     ]
    }
   ],
   "source": [
    "Xt=np.zeros((nt,d))\n",
    "Xtss=np.zeros((719,d))\n",
    "Xts.shape\n",
    "for i in range(nt):\n",
    "    for j in range(d):\n",
    "        Xt[i][j]=Xtr[i][Isel[j]]\n",
    "for i in range(719):\n",
    "    for j in range(d):\n",
    "        Xtss[i][j]=Xts[i][Isel[j]]\n",
    "regr.fit(Xt,ytr)\n",
    "y_pred = regr.predict(Xtss)\n",
    "RSS_ts = np.mean((y_pred-yts)**2)/(np.std(yts)**2)\n",
    "print(\"Normalized RSS = {0:f}\".format(RSS_ts))\n",
    "acc=np.mean(np.fabs((y_pred-yts)/yts<1))\n",
    "print(\"Accuracy on test data = %f\" % acc)"
   ]
  },
  {
   "cell_type": "code",
   "execution_count": 60,
   "metadata": {},
   "outputs": [
    {
     "name": "stdout",
     "output_type": "stream",
     "text": [
      "Normalized RSS = 0.382022\n",
      "Accuracy on test data = 0.698242\n"
     ]
    },
    {
     "data": {
      "text/plain": [
       "[<matplotlib.lines.Line2D at 0x2109c07b828>]"
      ]
     },
     "execution_count": 60,
     "metadata": {},
     "output_type": "execute_result"
    },
    {
     "data": {
      "image/png": "[encoded data removed]",
      "text/plain": [
       "<matplotlib.figure.Figure at 0x2109bd58400>"
      ]
     },
     "metadata": {},
     "output_type": "display_data"
    }
   ],
   "source": [
    "from sklearn.neighbors import KNeighborsRegressor\n",
    "knn =KNeighborsRegressor(3) \n",
    "knn.fit(Xtr, ytr) \n",
    "y_pred = knn.predict(Xts)\n",
    "RSS_ts = np.mean((y_pred-yts)**2)/(np.std(yts)**2)\n",
    "print(\"Normalized RSS = {0:f}\".format(RSS_ts))\n",
    "acc=np.mean(np.fabs((y_pred-yts)/yts<1))\n",
    "print(\"Accuracy on test data = %f\" % acc)\n",
    "plt.scatter(y_pred,yts)\n",
    "plt.xlabel('predict')\n",
    "plt.ylabel('actual')\n",
    "plt.plot([0,4e8],[0,4e8],'r')"
   ]
  },
  {
   "cell_type": "code",
   "execution_count": 59,
   "metadata": {},
   "outputs": [
    {
     "name": "stdout",
     "output_type": "stream",
     "text": [
      "Normalized RSS = 0.360300\n",
      "Accuracy on test data = 0.701172\n"
     ]
    }
   ],
   "source": [
    "knn.fit(Xt,ytr)\n",
    "y_pred =knn.predict(Xtss)\n",
    "RSS_ts = np.mean((y_pred-yts)**2)/(np.std(yts)**2)\n",
    "print(\"Normalized RSS = {0:f}\".format(RSS_ts))\n",
    "acc=np.mean(np.fabs((y_pred-yts)/yts<1))\n",
    "print(\"Accuracy on test data = %f\" % acc)"
   ]
  },
  {
   "cell_type": "code",
   "execution_count": 72,
   "metadata": {
    "collapsed": true
   },
   "outputs": [],
   "source": [
    "\n",
    "Xmean=np.mean(Xtr,axis=0)\n",
    "Xstd=np.std(Xtr,axis=0)\n",
    "Xtr_scale=(Xtr-Xmean[None,:])/Xstd[None,:]\n",
    "Xts_scale=(Xts-Xmean[None,:])/Xstd[None,:]"
   ]
  },
  {
   "cell_type": "code",
   "execution_count": 73,
   "metadata": {
    "collapsed": true
   },
   "outputs": [],
   "source": [
    "from keras.models import Model, Sequential\n",
    "from keras.layers import Dense, Activation\n",
    "import keras.backend as K\n",
    "from keras import optimizers\n",
    "K.clear_session()\n",
    "nin = X.shape[1]  # dimension of input data\n",
    "nh = 80    # number of hidden units\n",
    "nout = 1   # number of outputs = 10 since there are 10 classes\n",
    "model = Sequential()\n",
    "model.add(Dense(nh, input_shape=(nin,),activation='relu', name='hidden'))\n",
    "model.add(Dense(nout, activation=None, name='output'))\n",
    "opt = optimizers.Adam(lr=0.001) # beta_1=0.9, beta_2=0.999, epsilon=1e-08, decay=0.0)\n",
    "model.compile(optimizer=opt,\n",
    "              loss='mean_squared_error',\n",
    "              metrics=['mean_squared_error'])\n"
   ]
  },
  {
   "cell_type": "code",
   "execution_count": 74,
   "metadata": {},
   "outputs": [
    {
     "data": {
      "text/plain": [
       "<keras.callbacks.History at 0x2109dcd1da0>"
      ]
     },
     "execution_count": 74,
     "metadata": {},
     "output_type": "execute_result"
    }
   ],
   "source": [
    "model.fit(Xtr_scale, ytr, epochs=500, batch_size=100, validation_data=(Xts_scale,yts),verbose=False)"
   ]
  },
  {
   "cell_type": "code",
   "execution_count": 75,
   "metadata": {},
   "outputs": [
    {
     "data": {
      "text/plain": [
       "Text(0,0.5,'actual')"
      ]
     },
     "execution_count": 75,
     "metadata": {},
     "output_type": "execute_result"
    },
    {
     "data": {
      "image/png": "[encoded data removed]",
      "text/plain": [
       "<matplotlib.figure.Figure at 0x2109c166198>"
      ]
     },
     "metadata": {},
     "output_type": "display_data"
    }
   ],
   "source": [
    "y_pred=model.predict(Xts_scale)\n",
    "plt.plot(y_pred,yts,'o')\n",
    "\n",
    "plt.xlabel('predict')\n",
    "plt.ylabel('actual')\n"
   ]
  },
  {
   "cell_type": "code",
   "execution_count": null,
   "metadata": {
    "collapsed": true
   },
   "outputs": [],
   "source": []
  },
  {
   "cell_type": "code",
   "execution_count": null,
   "metadata": {
    "collapsed": true
   },
   "outputs": [],
   "source": []
  }
 ],
 "metadata": {
  "kernelspec": {
   "display_name": "Python 3",
   "language": "python",
   "name": "python3"
  },
  "language_info": {
   "codemirror_mode": {
    "name": "ipython",
    "version": 3
   },
   "file_extension": ".py",
   "mimetype": "text/x-python",
   "name": "python",
   "nbconvert_exporter": "python",
   "pygments_lexer": "ipython3",
   "version": "3.6.3"
  }
 },
 "nbformat": 4,
 "nbformat_minor": 2
}
