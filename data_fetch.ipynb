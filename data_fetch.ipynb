{
 "cells": [
  {
   "cell_type": "code",
   "execution_count": 2,
   "metadata": {
    "collapsed": true
   },
   "outputs": [],
   "source": [
    "import omdb\n",
    "import requests\n",
    "omdb.set_default('apikey','48cb183')"
   ]
  },
  {
   "cell_type": "code",
   "execution_count": 3,
   "metadata": {},
   "outputs": [
    {
     "data": {
      "text/plain": [
       "Item({'actors': 'Leonardo DiCaprio, Kate Winslet, Billy Zane, Kathy Bates', 'awards': 'Won 11 Oscars. Another 110 wins & 75 nominations.', 'box_office': 'N/A', 'country': 'USA', 'dvd': '10 Sep 2012', 'director': 'James Cameron', 'genre': 'Drama, Romance', 'language': 'English, Swedish', 'metascore': '74', 'plot': '84 years later, a 100 year-old woman named Rose DeWitt Bukater tells the story to her granddaughter Lizzy Calvert, Brock Lovett, Lewis Bodine, Bobby Buell and Anatoly Mikailavich on the Keldysh about her life set in April 10th 1912, on a ship called Titanic when young Rose boards the departing ship with the upper-class passengers and her mother, Ruth DeWitt Bukater, and her fiancé, Caledon Hockley. Meanwhile, a drifter and artist named Jack Dawson and his best friend Fabrizio De Rossi win third-class tickets to the ship in a game. And she explains the whole story from departure until the death of Titanic on its first and last voyage April 15th, 1912 at 2:20 in the morning.', 'poster': 'https://images-na.ssl-images-amazon.com/images/M/MV5BMDdmZGU3NDQtY2E5My00ZTliLWIzOTUtMTY4ZGI1YjdiNjk3XkEyXkFqcGdeQXVyNTA4NzY1MzY@._V1_SX300.jpg', 'production': 'Paramount Pictures', 'rated': 'PG-13', 'released': '19 Dec 1997', 'response': 'True', 'runtime': '194 min', 'title': 'Titanic', 'type': 'movie', 'website': 'http://www.titanicmovie.com/', 'writer': 'James Cameron', 'year': '1997', 'imdb_id': 'tt0120338', 'imdb_rating': '7.8', 'imdb_votes': '869,216'})"
      ]
     },
     "execution_count": 3,
     "metadata": {},
     "output_type": "execute_result"
    }
   ],
   "source": [
    "omdb.get(title='Titanic', fullplot=True, tomatoes=False)\n"
   ]
  },
  {
   "cell_type": "code",
   "execution_count": 5,
   "metadata": {
    "scrolled": true
   },
   "outputs": [
    {
     "name": "stdout",
     "output_type": "stream",
     "text": [
      "['Avatar' \"Pirates of the Caribbean: At World's End\" 'Spectre' ...,\n",
      " 'A Plague So Pleasant' 'Shanghai Calling' 'My Date with Drew']\n",
      "['Absentia' 'The Brothers McMullen' 'The Dirties' 'Gabriela'\n",
      " 'Tiny Furniture' 'Hayride' 'The Naked Ape' 'Counting'\n",
      " 'The Call of Cthulhu' 'Bending Steel' 'The Signal' 'The Image Revolution'\n",
      " 'This Is Martin Bonner' 'A True Story' 'George Washington'\n",
      " 'Smiling Fish & Goat on Fire' 'Dawn of the Crescent Moon' 'Raymond Did It'\n",
      " 'The Last Waltz' 'Run, Hide, Die' 'The Exploding Girl'\n",
      " \"The Legend of God's Gun\" 'Mutual Appreciation'\n",
      " 'Her Cry: La Llorona Investigation' 'Down Terrace' 'Clerks'\n",
      " 'Pink Narcissus' 'Funny Ha Ha' 'In the Company of Men' 'Sabotage' 'Manito'\n",
      " 'Rampage' 'Slacker' 'Dutch Kills' 'Dry Spell' 'Flywheel' 'Exeter'\n",
      " 'The Ridges' 'The Puffy Chair' 'Stories of Our Lives' 'Breaking Upwards'\n",
      " 'All Superheroes Must Die' 'Pink Flamingos' 'Clean' 'The Circle'\n",
      " 'Tin Can Man' 'The Cure' 'On the Downlow' 'Sanctuary; Quite a Conundrum'\n",
      " 'Bang' 'Primer' 'Cavite' 'El Mariachi' 'The Mongol King' 'Newlyweds'\n",
      " 'Signed Sealed Delivered' 'The Following            '\n",
      " 'A Plague So Pleasant' 'Shanghai Calling' 'My Date with Drew']\n"
     ]
    },
    {
     "data": {
      "text/plain": [
       "(5043,)"
      ]
     },
     "execution_count": 5,
     "metadata": {},
     "output_type": "execute_result"
    }
   ],
   "source": [
    "import pandas as pd\n",
    "import numpy as np\n",
    "with open('C:/Users/WANGYIFAN/Desktop/movie_metadata.csv') as f:\n",
    "    df= pd.read_csv(f,header=0,delim_whitespace=False,na_values='?',index_col=0)\n",
    "\n",
    "y=np.array(df['movie_title'])\n",
    "print(y)\n",
    "y1=y[4983:]\n",
    "print(y1)\n",
    "y.shape"
   ]
  },
  {
   "cell_type": "code",
   "execution_count": 6,
   "metadata": {
    "scrolled": false
   },
   "outputs": [
    {
     "name": "stdout",
     "output_type": "stream",
     "text": [
      "finished\n"
     ]
    }
   ],
   "source": [
    "import json\n",
    "file='filmdata.json'\n",
    "with open(file,'wb') as fc:\n",
    "    for i in y1:\n",
    "        info=omdb.get(title=i, fullplot=True, tomatoes=True)\n",
    "        jsobj=json.dumps(info)\n",
    "    \n",
    "        fc.write(jsobj.encode())\n",
    "    \n",
    "\n",
    "print('finished')\n",
    "        "
   ]
  },
  {
   "cell_type": "code",
   "execution_count": 2,
   "metadata": {
    "collapsed": true
   },
   "outputs": [],
   "source": [
    "import csv\n",
    "import json\n",
    "with open('film.json','r') as rd:\n",
    "    line=json.load(rd)\n",
    "data=line['film']\n",
    "with open('movie_metadata.csv','w') as wt:\n",
    "    csvwriter = csv.writer(wt)\n",
    "    count = 0\n",
    "    for emp in data:\n",
    "        if count == 0:\n",
    "            header = emp.keys()\n",
    "\n",
    "            csvwriter.writerow(header)\n",
    "\n",
    "            count += 1\n",
    "\n",
    "        csvwriter.writerow(emp.values())\n",
    "\n"
   ]
  },
  {
   "cell_type": "code",
   "execution_count": null,
   "metadata": {
    "collapsed": true
   },
   "outputs": [],
   "source": []
  },
  {
   "cell_type": "code",
   "execution_count": null,
   "metadata": {
    "collapsed": true
   },
   "outputs": [],
   "source": []
  }
 ],
 "metadata": {
  "kernelspec": {
   "display_name": "Python 3",
   "language": "python",
   "name": "python3"
  },
  "language_info": {
   "codemirror_mode": {
    "name": "ipython",
    "version": 3
   },
   "file_extension": ".py",
   "mimetype": "text/x-python",
   "name": "python",
   "nbconvert_exporter": "python",
   "pygments_lexer": "ipython3",
   "version": "3.6.3"
  }
 },
 "nbformat": 4,
 "nbformat_minor": 2
}
